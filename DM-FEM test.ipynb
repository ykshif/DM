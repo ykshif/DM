{
 "cells": [
  {
   "cell_type": "code",
   "execution_count": null,
   "metadata": {},
   "outputs": [],
   "source": [
    "#import packages\n",
    "import time\n",
    "import numpy as np\n",
    "import capytaine as cpt\n",
    "import scipy\n",
    "from capytaine.io.mesh_writers import write_STL\n",
    "import matplotlib.pyplot as plt\n",
    "from scipy.linalg import block_diag\n",
    "import logging\n",
    "import xarray as xr\n",
    "from capytaine.io.xarray import merge_complex_values\n",
    "from capytaine.post_pro import rao\n",
    "logging.basicConfig(level=logging.INFO, format='%(levelname)-8s: %(message)s')"
   ]
  },
  {
   "cell_type": "code",
   "execution_count": null,
   "metadata": {},
   "outputs": [],
   "source": [
    "# Import custom package\n",
    "import DM_Assemble as DM_A\n",
    "import DM_Reading  as DM_R\n",
    "import DM_ShowNodes as DMshow\n",
    "import DM_Verify as DM_V"
   ]
  },
  {
   "cell_type": "code",
   "execution_count": null,
   "metadata": {},
   "outputs": [],
   "source": [
    "# Show nodes\n",
    "file_path = \"plate334.inp\"\n",
    "label_interval = 10\n",
    "elements = DMshow.plot_fea_model(file_path, label_interval)"
   ]
  },
  {
   "cell_type": "code",
   "execution_count": null,
   "metadata": {},
   "outputs": [],
   "source": [
    "len(elements)"
   ]
  },
  {
   "cell_type": "code",
   "execution_count": null,
   "metadata": {},
   "outputs": [],
   "source": [
    "# Example usage:\n",
    "DM_V.verify_hydrodynamic_data(\"data\\DMFEM1010_180_direction45.nc\",wave_direction=np.pi/4)"
   ]
  },
  {
   "cell_type": "code",
   "execution_count": null,
   "metadata": {},
   "outputs": [],
   "source": [
    "# main \n",
    "if __name__ == \"__main__\":\n",
    "    N = 3721   # Suppose the number of nodes is 793 63\n",
    "\n",
    "    # Obtain the dataset\n",
    "    dataset = merge_complex_values(xr.open_dataset(\"data\\DMFEM1010_5852_direction135_nosprace_m4.nc\"))\n",
    "    \n",
    "    # Extract matrices and force from the dataset\n",
    "    added_mass = dataset['added_mass'][0].values\n",
    "    radiation_damping = dataset['radiation_damping'][0].values\n",
    "    inertia_matrix = dataset['inertia_matrix'].values\n",
    "    hydrostatic_stiffness = dataset['hydrostatic_stiffness'].values\n",
    "    F_w = dataset['Froude_Krylov_force'][0].values + dataset['diffraction_force'][0].values\n",
    "    \n",
    "    # Construct the combined matrices\n",
    "    M = added_mass + inertia_matrix  # Total mass\n",
    "    C = radiation_damping  # Damping\n",
    "    K = hydrostatic_stiffness  # Stiffness\n",
    "    \n",
    "    # Sample node ID list\n",
    "    # node_ids = [41, 39, 37, 35, 33, 31, 29, 27, 25, 23]\n",
    "    node_ids = DM_A.calculate_2d_node_positions_descending(3535,6,61,10,10) # Calculate the node positionscalculate_node_positions(425,6,10) \n",
    "    # print(node_ids)\n",
    "    # Call function to insert the additional mass stiffness matrix into the total stiffness matrix\n",
    "    mass = DM_A.sparse_insert_matrix(N, M, node_ids)\n",
    "    damping = DM_A.sparse_insert_matrix(N, C, node_ids)\n",
    "    hy_stiffness = DM_A.sparse_insert_matrix(N, K, node_ids)\n",
    "    from scipy.sparse import csr_matrix\n",
    "    # Obtain the structural stiffness matrix\n",
    "    file_path = \"data\\model300_300\\plate334-1_STIF1.mtx\"  # Replace with your file path\n",
    "    stiffness = DM_R.get_stiffness_csr_matrix(file_path) + hy_stiffness\n",
    "\n",
    "    # Assemble the force matrix\n",
    "    K_F_w = csr_matrix(DM_A.extend_force_matrix(F_w, node_ids, N))\n",
    "    \n",
    "    omega = 0.5852  # Here we use 1.0 as an example, in actual applications you should use your real data\n",
    "    import time\n",
    "    # 开始计时\n",
    "    start_time = time.time()\n",
    "    X = DM_A.sparse_solve_frequency_domain(mass, damping, stiffness, K_F_w, omega)  # Solve in frequency domain\n",
    "    end_time = time.time()\n",
    "    # 计算运行时间\n",
    "    runtime = end_time - start_time\n",
    "    # 打印运行时间\n",
    "    print(f\"代码的运行时间为: {runtime} 秒\")\n",
    "    \n",
    "    # 保存X\n",
    "    # np.save('result.npy', X)\n",
    "#     # 在需要时加载X\n",
    "#     X_loaded = np.load('result.npy')\n"
   ]
  },
  {
   "cell_type": "code",
   "execution_count": null,
   "metadata": {},
   "outputs": [],
   "source": [
    "    # 在需要时加载X\n",
    "# X = np.load('result.npy')\n",
    "X = X.reshape(22326,1)\n",
    "heave = X[2::6]"
   ]
  },
  {
   "cell_type": "code",
   "execution_count": null,
   "metadata": {},
   "outputs": [],
   "source": [
    "X1 = np.load(r'data\\model300_300\\result.npy')"
   ]
  },
  {
   "cell_type": "code",
   "execution_count": null,
   "metadata": {},
   "outputs": [],
   "source": [
    "X.min()"
   ]
  },
  {
   "cell_type": "code",
   "execution_count": null,
   "metadata": {},
   "outputs": [],
   "source": [
    "plt.plot(abs(heave[0:61]))"
   ]
  },
  {
   "cell_type": "code",
   "execution_count": null,
   "metadata": {},
   "outputs": [],
   "source": [
    "# Import force analysis model\n",
    "from DM_forec_analysis import ForceAnalysis\n",
    "# Create an instance of the ForceAnalysis class\n",
    "# Parameters include:\n",
    "# N: Total Number of nodes\n",
    "# H: Row\n",
    "# module_nodes: Number of nodes per module\n",
    "# module_number: Number of modules\n",
    "# element_length: Length of the element\n",
    "# element_width: Width of the element\n",
    "analyzer = ForceAnalysis(N=3721, H=61, module_nodes=7, module_number=100, module_distribution=\"2D\", module_rows=10, module_cols=10, element_length=5, element_width=5)\n",
    "\n",
    "# Compute module displacements using the provided displacement matrix X\n",
    "module_displacements = analyzer.compute_module_displacements(displacement_matrix=X)\n",
    "\n",
    "# Fetch the stiffness matrix for an element from a specified file\n",
    "K_element = DM_R.get_stiffness_matrix(\"plate334_sub.mtx\")\n",
    "\n",
    "# Compute forces within the module using the stiffness matrix and module displacements\n",
    "module_forces = analyzer.compute_module_forces(K_element, module_displacements)\n",
    "\n",
    "# Map the forces from module level to global nodes\n",
    "global_forces = analyzer.map_forces_to_global_nodes(module_forces)\n",
    "\n",
    "# Visualize global forces using a plot\n",
    "analyzer.plot_forces(global_forces)\n",
    "\n",
    "# Display global forces as a 2D heatmap\n",
    "analyzer.plot_2D_heatmap(global_forces)\n",
    "\n",
    "# Display global forces as a 3D surface plot\n",
    "analyzer.plot_3D_surface(global_forces)"
   ]
  },
  {
   "cell_type": "code",
   "execution_count": null,
   "metadata": {},
   "outputs": [],
   "source": []
  },
  {
   "cell_type": "code",
   "execution_count": null,
   "metadata": {},
   "outputs": [],
   "source": [
    "# Show nodes\n",
    "file_path = \"data\\Job-1_sub.inp\"\n",
    "label_interval = 1\n",
    "DMshow.plot_fea_model(file_path, label_interval)"
   ]
  },
  {
   "cell_type": "code",
   "execution_count": null,
   "metadata": {},
   "outputs": [],
   "source": [
    "# Show heave displacement\n",
    "import matplotlib.pyplot as plt\n",
    "displacement = X\n",
    "# 提取中轴线上的节点位移\n",
    "mid_axis_nodes_start = 3721-60  # 起始节点\n",
    "mid_axis_nodes_end = 3721# 结束节点\n",
    "\n",
    "# 由于每个节点有6个自由度，我们需要找到与这些节点对应的位移\n",
    "mid_axis_displacement = displacement[(mid_axis_nodes_start-1)*6:(mid_axis_nodes_end)*6:6, :]\n",
    "\n",
    "# 垂荡位移应该是Y轴（第2个自由度）的位移，我们需要每6个自由度取一次\n",
    "heave_displacement = displacement[(mid_axis_nodes_start-1)*6+2:(mid_axis_nodes_end)*6:6, :]\n",
    "\n",
    "# 定义节点在长度方向上的位置\n",
    "length = np.linspace(0, 300, mid_axis_nodes_end-mid_axis_nodes_start+1)\n",
    "\n",
    "# 绘制位移曲线\n",
    "plt.figure(figsize=(10, 6))\n",
    "plt.plot(length, np.abs(heave_displacement), marker='o')  # 绘制垂荡位移的绝对值\n",
    "plt.xlabel(\"Length (m)\", fontsize=12)\n",
    "plt.ylabel(\"Heave displacement\", fontsize=12)\n",
    "plt.title(\"Heave displacement along the length\", fontsize=14)\n",
    "plt.grid(True)\n",
    "plt.show()\n"
   ]
  },
  {
   "cell_type": "code",
   "execution_count": null,
   "metadata": {},
   "outputs": [],
   "source": []
  }
 ],
 "metadata": {
  "kernelspec": {
   "display_name": "topbook_envs",
   "language": "python",
   "name": "python3"
  },
  "language_info": {
   "codemirror_mode": {
    "name": "ipython",
    "version": 3
   },
   "file_extension": ".py",
   "mimetype": "text/x-python",
   "name": "python",
   "nbconvert_exporter": "python",
   "pygments_lexer": "ipython3",
   "version": "3.9.12"
  }
 },
 "nbformat": 4,
 "nbformat_minor": 4
}
