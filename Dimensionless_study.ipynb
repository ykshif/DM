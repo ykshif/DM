{
 "cells": [
  {
   "cell_type": "code",
   "execution_count": 1,
   "metadata": {},
   "outputs": [],
   "source": [
    "#import packages\n",
    "import time\n",
    "import numpy as np\n",
    "import capytaine as cpt\n",
    "import scipy\n",
    "from capytaine.io.mesh_writers import write_STL\n",
    "import matplotlib.pyplot as plt\n",
    "from scipy.linalg import block_diag\n",
    "import logging\n",
    "import xarray as xr\n",
    "from capytaine.io.xarray import merge_complex_values\n",
    "from capytaine.post_pro import rao\n",
    "logging.basicConfig(level=logging.INFO, format='%(levelname)-8s: %(message)s')\n",
    "import scienceplots\n",
    "plt.style.use(['science','no-latex','ieee'])\n",
    "\n",
    "# Import custom package\n",
    "import DM_Assemble as DM_A\n",
    "import DM_Reading  as DM_R\n",
    "import DM_ShowNodes as DMshow\n",
    "import DM_Verify as DM_V\n",
    "import DM_Windload as DM_Wind\n",
    "from wave_spectrum import  jonswap"
   ]
  },
  {
   "cell_type": "code",
   "execution_count": 23,
   "metadata": {},
   "outputs": [
    {
     "data": {
      "text/plain": [
       "1.6370458566215897e-09"
      ]
     },
     "execution_count": 23,
     "metadata": {},
     "output_type": "execute_result"
    }
   ],
   "source": [
    "E = 1e6\n",
    "L = 300\n",
    "B = 60\n",
    "H = 2\n",
    "I = 60*2**3/12\n",
    "rho = 1025\n",
    "g = 9.81\n",
    "\n",
    "dimensionless_S = E*I/(rho*g*L**5) \n",
    "dimensionless_S"
   ]
  },
  {
   "cell_type": "code",
   "execution_count": 13,
   "metadata": {},
   "outputs": [
    {
     "data": {
      "text/plain": [
       "3.904354368042491e-05"
      ]
     },
     "execution_count": 13,
     "metadata": {},
     "output_type": "execute_result"
    }
   ],
   "source": [
    "dimensionless_S"
   ]
  }
 ],
 "metadata": {
  "kernelspec": {
   "display_name": "capytaine",
   "language": "python",
   "name": "python3"
  },
  "language_info": {
   "codemirror_mode": {
    "name": "ipython",
    "version": 3
   },
   "file_extension": ".py",
   "mimetype": "text/x-python",
   "name": "python",
   "nbconvert_exporter": "python",
   "pygments_lexer": "ipython3",
   "version": "3.8.16"
  },
  "orig_nbformat": 4
 },
 "nbformat": 4,
 "nbformat_minor": 2
}
