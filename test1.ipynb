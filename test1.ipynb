{
 "cells": [
  {
   "cell_type": "markdown",
   "metadata": {},
   "source": [
    "# 1、读取 abaqus inp 文件，展示节点信息图"
   ]
  },
  {
   "cell_type": "code",
   "execution_count": 1,
   "metadata": {},
   "outputs": [
    {
     "data": {
      "image/png": "[encoded data removed]",
      "text/plain": [
       "<Figure size 1000x400 with 1 Axes>"
      ]
     },
     "metadata": {},
     "output_type": "display_data"
    }
   ],
   "source": [
    "# Show nodes\n",
    "import DM_ShowNodes as DMshow\n",
    "file_path = \"E:\\phd\\Code\\DM-FEM2D\\Fem_inp\\Job-1_largemesh.inp\"\n",
    "label_interval = 1\n",
    "node = DMshow.plot_fea_model(file_path, label_interval)\n",
    "#node_ids = [41, 39, 37, 35, 33, 31, 29, 27, 25, 23]"
   ]
  },
  {
   "cell_type": "markdown",
   "metadata": {},
   "source": [
    "# 2、读取abaqus到处的有限元质量矩阵和刚度矩阵"
   ]
  },
  {
   "cell_type": "code",
   "execution_count": 2,
   "metadata": {},
   "outputs": [],
   "source": [
    "import DM_Reading as dm_r\n",
    "file_m = 'Job-1_largemesh_MASS1.mtx'\n",
    "file_k = 'Job-1_largemesh_STIF1.mtx'"
   ]
  },
  {
   "cell_type": "code",
   "execution_count": 3,
   "metadata": {},
   "outputs": [],
   "source": [
    "M = dm_r.get_stiffness_matrix(file_m)\n",
    "k = dm_r.get_stiffness_matrix(file_k)"
   ]
  },
  {
   "cell_type": "markdown",
   "metadata": {},
   "source": [
    "## 2.1为了解决M矩阵对角线存在0值，在对角线上添加小量进行计算。"
   ]
  },
  {
   "cell_type": "code",
   "execution_count": 4,
   "metadata": {},
   "outputs": [],
   "source": [
    "import numpy as np\n",
    "epsilon = 1e-6  # This is the small quantity you choose to add\n",
    "np.fill_diagonal(M, np.diagonal(M) + epsilon)"
   ]
  },
  {
   "cell_type": "markdown",
   "metadata": {},
   "source": [
    "### Eigenvalues 特征值 eigenvector 特征向量\n",
    "### The eigenvectors are returned in a 2D array, where each column corresponds to an eigenvector associated with the eigenvalue at the same index. For example, the first column corresponds to the first (smallest) eigenvalue, the second column to the second eigenvalue, and so on."
   ]
  },
  {
   "cell_type": "markdown",
   "metadata": {},
   "source": [
    "# 3、使用python复现SEREP函数方法"
   ]
  },
  {
   "cell_type": "code",
   "execution_count": 9,
   "metadata": {},
   "outputs": [
    {
     "data": {
      "text/plain": [
       "(318,)"
      ]
     },
     "execution_count": 9,
     "metadata": {},
     "output_type": "execute_result"
    }
   ],
   "source": [
    "# 为了快速读取SlaveDofs而创建的函数\n",
    "import numpy as np\n",
    "def create_dof_matrix(num_nodes, nodes_to_remove):\n",
    "    \"\"\"\n",
    "    Create a DOF matrix for a system with a specified number of nodes,\n",
    "    each having 6 DOFs, and remove the DOFs corresponding to specified nodes.\n",
    "\n",
    "    Parameters:\n",
    "    num_nodes (int): Number of nodes in the system.\n",
    "    nodes_to_remove (list): List of node IDs whose DOFs are to be removed.\n",
    "\n",
    "    Returns: \n",
    "    numpy.ndarray: A matrix with remaining DOFs.\n",
    "    \"\"\"\n",
    "    # Each node has 6 DOFs\n",
    "    total_dofs = num_nodes * 6\n",
    "\n",
    "    # Initialize an array to represent all DOFs\n",
    "    dof_array = np.arange(total_dofs)\n",
    "\n",
    "    # Adjust the nodes_to_remove to zero-based indexing\n",
    "    nodes_to_remove_zero_based = [node - 1 for node in nodes_to_remove]\n",
    "\n",
    "    # Calculate the DOF indices for the nodes to remove\n",
    "    dofs_to_remove = []\n",
    "    for node_id in nodes_to_remove_zero_based:\n",
    "        start_dof = node_id * 6\n",
    "        dofs_to_remove.extend(range(start_dof, start_dof + 6))\n",
    "\n",
    "    # Remove the specified DOFs\n",
    "    remaining_dofs = np.delete(dof_array, dofs_to_remove)\n",
    "\n",
    "    return np.array(remaining_dofs)\n",
    "\n",
    "# Example usage\n",
    "num_nodes = 63\n",
    "nodes_to_remove = [41, 39, 37, 35, 33, 31, 29, 27, 25, 23]\n",
    "SlaveDofs = create_dof_matrix(num_nodes, nodes_to_remove)\n",
    "SlaveDofs.shape"
   ]
  },
  {
   "cell_type": "code",
   "execution_count": 10,
   "metadata": {},
   "outputs": [],
   "source": [
    "import numpy as np\n",
    "from scipy.linalg import eigh\n",
    "\n",
    "def SEREP(K, M, SlaveDofs):\n",
    "    # Sort the SlaveDofs\n",
    "    SlaveDofs = np.sort(SlaveDofs)\n",
    "    \n",
    "    # Solve the eigenvalue problem\n",
    "    eigenvalues, eigenvectors = eigh(K, M)\n",
    "    \n",
    "    # Create index array for remaining DOFs\n",
    "    index = np.setdiff1d(np.arange(K.shape[0]), SlaveDofs)\n",
    "\n",
    "    # Define transformation matrices\n",
    "    Am = eigenvectors[:, index]\n",
    "    # print(Am.shape)\n",
    "    As = eigenvectors[:, SlaveDofs]\n",
    "    # print(As.shape)\n",
    "    test = np.hstack((Am, As))\n",
    "    # print(test.shape)\n",
    "          \n",
    "    T = np.dot(np.dot(np.hstack((Am, As)), np.dot(Am, Am.T)), Am)\n",
    "    # print(\"T的shape:\",T.shape)\n",
    "\n",
    "    # Calculate the reduced mass and stiffness matrices\n",
    "    MR = T.T @ M @ T\n",
    "    KR = T.T @ K @ T\n",
    "    \n",
    "    return KR, MR, T\n",
    "\n",
    "# Example usage:\n",
    "# Assuming K, M are your full stiffness and mass matrices and\n",
    "# SlaveDofs is a list/array of DOFs to delete\n",
    "# SlaveDofs = np.array([0, 1, 2, 3, 4, 5, 6, 7, 8])\n",
    "KR, MR, T = SEREP(k, M, SlaveDofs)\n"
   ]
  },
  {
   "cell_type": "markdown",
   "metadata": {},
   "source": [
    "# 4、读取水动力数据，构建运动方程，求解位移响应"
   ]
  },
  {
   "cell_type": "code",
   "execution_count": 11,
   "metadata": {},
   "outputs": [],
   "source": [
    "#import packages\n",
    "import time\n",
    "import numpy as np\n",
    "import capytaine as cpt\n",
    "import scipy\n",
    "from capytaine.io.mesh_writers import write_STL\n",
    "import matplotlib.pyplot as plt\n",
    "from scipy.linalg import block_diag\n",
    "import vtk\n",
    "import logging\n",
    "import xarray as xr\n",
    "from capytaine.io.xarray import merge_complex_values\n",
    "from capytaine.post_pro import rao\n",
    "logging.basicConfig(level=logging.INFO, format='%(levelname)-8s: %(message)s')"
   ]
  },
  {
   "cell_type": "code",
   "execution_count": 12,
   "metadata": {},
   "outputs": [],
   "source": [
    "dataset = merge_complex_values(xr.open_dataset(\"E:\\phd\\Code\\DM-FEM2D\\winddata\\DM10_180_direction0.nc\"))"
   ]
  },
  {
   "cell_type": "code",
   "execution_count": 36,
   "metadata": {},
   "outputs": [],
   "source": [
    "# Extract matrices and force from the dataset\n",
    "added_mass = dataset['added_mass'][0].values\n",
    "radiation_damping = dataset['radiation_damping'][0].values\n",
    "inertia_matrix = dataset['inertia_matrix'].values\n",
    "hydrostatic_stiffness = dataset['hydrostatic_stiffness'].values\n",
    "F_w = dataset['Froude_Krylov_force'][0].values + dataset['diffraction_force'][0].values"
   ]
  },
  {
   "cell_type": "code",
   "execution_count": 43,
   "metadata": {},
   "outputs": [],
   "source": [
    "mass = added_mass + MR\n",
    "damping = radiation_damping\n",
    "stiffness = hydrostatic_stiffness + KR"
   ]
  },
  {
   "cell_type": "code",
   "execution_count": 44,
   "metadata": {},
   "outputs": [],
   "source": [
    "import DM_Assemble as DM_A\n",
    "omega = 0.5754  # Here we use 1.0 as an example, in actual applications you should use your real data\n",
    "X = DM_A.solve_frequency_domain(mass, damping, stiffness, F_w, omega)  # Solve in frequency domain"
   ]
  },
  {
   "cell_type": "code",
   "execution_count": 45,
   "metadata": {},
   "outputs": [
    {
     "data": {
      "text/plain": [
       "[<matplotlib.lines.Line2D at 0x287967003d0>]"
      ]
     },
     "execution_count": 45,
     "metadata": {},
     "output_type": "execute_result"
    },
    {
     "data": {
      "image/png": "[encoded data removed]",
      "text/plain": [
       "<Figure size 640x480 with 1 Axes>"
      ]
     },
     "metadata": {},
     "output_type": "display_data"
    }
   ],
   "source": [
    "import matplotlib.pyplot as plt\n",
    "heave = abs(X[2::6])\n",
    "plt.plot(heave)"
   ]
  },
  {
   "cell_type": "markdown",
   "metadata": {},
   "source": [
    "# 原模型结果vailation\n",
    "！![Alt text](image.png)"
   ]
  },
  {
   "cell_type": "markdown",
   "metadata": {},
   "source": []
  }
 ],
 "metadata": {
  "kernelspec": {
   "display_name": "abaqus",
   "language": "python",
   "name": "python3"
  },
  "language_info": {
   "codemirror_mode": {
    "name": "ipython",
    "version": 3
   },
   "file_extension": ".py",
   "mimetype": "text/x-python",
   "name": "python",
   "nbconvert_exporter": "python",
   "pygments_lexer": "ipython3",
   "version": "3.8.16"
  }
 },
 "nbformat": 4,
 "nbformat_minor": 2
}
