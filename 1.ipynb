{
 "cells": [
  {
   "cell_type": "code",
   "execution_count": 1,
   "metadata": {},
   "outputs": [],
   "source": [
    "#读取刚度矩阵\n",
    "import numpy as np\n",
    "\n",
    "# 读取数据文件，获取节点个数及自由度\n",
    "def get_size(file_path):\n",
    "    max_node = 0\n",
    "    with open(file_path, 'r') as file:\n",
    "        for line in file:\n",
    "            data = line.split(',')\n",
    "            node1 = int(data[0])\n",
    "            node2 = int(data[2])\n",
    "            max_node = max(max_node, node1, node2)\n",
    "    return max_node * 6  # 这里我们假设每个节点都有6个自由度\n",
    "\n",
    "# 从文件中读取稀疏矩阵数据\n",
    "def read_data(file_path, size):\n",
    "    matrix = np.zeros((size, size))\n",
    "    with open(file_path, 'r') as file:\n",
    "        for line in file:\n",
    "            data = line.split(',')\n",
    "            node1 = int(data[0])\n",
    "            dof1 = int(data[1])\n",
    "            node2 = int(data[2])\n",
    "            dof2 = int(data[3])\n",
    "            value = float(data[4])\n",
    "            # 计算在刚度矩阵中的位置，注意我们这里索引要减1，因为Python是0基索引\n",
    "            index1 = (node1 - 1) * 6 + dof1 - 1\n",
    "            index2 = (node2 - 1) * 6 + dof2 - 1\n",
    "            matrix[index1, index2] = value\n",
    "    return matrix\n",
    "\n",
    "file_path_K = \"E:\\phd\\capytaine_test\\FDM\\DM-FEM\\data\\Job-1_largemesh_STIF1.mtx\"  # 替换为你的文件路径\n",
    "size_K = get_size(file_path_K)\n",
    "matrix_K = read_data(file_path_K, size_K)\n",
    "\n",
    "# 将读取到的下三角部分复制到上三角部分，恢复完整的刚度矩阵\n",
    "for i in range(size_K):\n",
    "    for j in range(i+1, size_K):\n",
    "        matrix_K[i, j] = matrix_K[j, i]\n",
    "\n",
    "\n",
    "file_path_M = \"E:\\phd\\capytaine_test\\FDM\\DM-FEM\\data\\Job-1_largemesh_MASS1.mtx\"  # 替换为你的文件路径\n",
    "size_M = get_size(file_path_M)\n",
    "matrix_M = read_data(file_path_M, size_M)\n",
    "\n",
    "# 将读取到的下三角部分复制到上三角部分，恢复完整的刚度矩阵\n",
    "for i in range(size_M):\n",
    "    for j in range(i+1, size_M):\n",
    "        matrix_M[i, j] = matrix_M[j, i]\n",
    "\n"
   ]
  },
  {
   "cell_type": "code",
   "execution_count": 3,
   "metadata": {},
   "outputs": [
    {
     "name": "stdout",
     "output_type": "stream",
     "text": [
      "Regularized matrix is positive definite\n"
     ]
    }
   ],
   "source": [
    "import numpy as np\n",
    "\n",
    "# Add a small positive number to the diagonal elements of the matrix\n",
    "regularized_matrix_M = matrix_M + np.eye(matrix_M.shape[0]) * 1e-6\n",
    "\n",
    "try:\n",
    "    np.linalg.cholesky(regularized_matrix_M)\n",
    "    print(\"Regularized matrix is positive definite\")\n",
    "except np.linalg.LinAlgError:\n",
    "    print(\"Regularized matrix is still not positive definite\")"
   ]
  },
  {
   "cell_type": "code",
   "execution_count": 11,
   "metadata": {},
   "outputs": [
    {
     "name": "stdout",
     "output_type": "stream",
     "text": [
      "Failed to solve the eigenvalue problem: ARPACK error -1: No convergence (3781 iterations, 0/20 eigenvectors converged) [ARPACK error -14: DNAUPD  did not find any eigenvalues to sufficient accuracy.]\n"
     ]
    }
   ],
   "source": [
    "from scipy.sparse import csr_matrix\n",
    "from scipy.sparse.linalg import eigs\n",
    "import numpy as np\n",
    "\n",
    "# 将刚度矩阵和质量矩阵转换为稀疏矩阵\n",
    "K = csr_matrix(matrix_K)\n",
    "M = csr_matrix(regularized_matrix_M)\n",
    "\n",
    "# 找到刚度矩阵和质量矩阵对角线元素的最大值\n",
    "max_diag_K = max(K.diagonal())\n",
    "max_diag_M = max(M.diagonal())\n",
    "\n",
    "# 使用对角线元素的最大值对矩阵进行缩放\n",
    "K = K / max_diag_K\n",
    "M = M / max_diag_M\n",
    "\n",
    "# 解决一般化特征值问题，只找到最小的20个特征值和对应的特征向量\n",
    "try:\n",
    "    eigenvalues, eigenvectors = eigs(K, 20, M, which='SM')\n",
    "except Exception as e:\n",
    "    print(f\"Failed to solve the eigenvalue problem: {e}\")\n",
    "    eigenvalues = eigenvectors = None\n",
    "\n",
    "if eigenvalues is not None:\n",
    "    # 计算模态频率（需要对特征值开平方并取实部，因为在有阻尼的情况下，特征值可能是复数）\n",
    "    frequencies = np.sqrt(np.real(eigenvalues))\n",
    "\n",
    "    # 打印模态频率\n",
    "    print(frequencies)\n"
   ]
  },
  {
   "cell_type": "code",
   "execution_count": 3,
   "metadata": {},
   "outputs": [
    {
     "name": "stdout",
     "output_type": "stream",
     "text": [
      "Regularized matrix is positive definite\n"
     ]
    }
   ],
   "source": []
  },
  {
   "cell_type": "code",
   "execution_count": 6,
   "metadata": {},
   "outputs": [
    {
     "name": "stdout",
     "output_type": "stream",
     "text": [
      "[1.64324363e+08 1.64324363e+08 1.64324363e+08 1.64324363e+08\n",
      " 1.64324363e+08 1.64324363e+08 1.64324363e+08 1.64324363e+08\n",
      " 1.64324363e+08 1.64324363e+08]\n"
     ]
    }
   ],
   "source": [
    "import numpy as np\n",
    "from scipy.sparse.linalg import eigsh\n",
    "from scipy.sparse import csr_matrix\n",
    "\n",
    "# 加载你的刚度矩阵和质量矩阵\n",
    "# 假设你已经有了加载矩阵的函数get_stiffness_matrix()和get_mass_matrix()\n",
    "\n",
    "# 将矩阵转换为CSR格式（稀疏矩阵格式），这是eigsh函数需要的格式\n",
    "K = csr_matrix(matrix_K)\n",
    "M = csr_matrix(regularized_matrix_M)\n",
    "\n",
    "# 解决一般化特征值问题，只找到最小的50个特征值和对应的特征向量\n",
    "eigenvalues, eigenvectors = eigsh(K, 10, M)\n",
    "\n",
    "# 计算模态频率（需要对特征值开平方并取实部，因为在有阻尼的情况下，特征值可能是复数）\n",
    "frequencies = np.sqrt(np.real(eigenvalues))\n",
    "\n",
    "# 打印模态频率\n",
    "print(frequencies)\n",
    "\n",
    "# eigenvectors 就是你的模态振型，你可以对它进行进一步的分析或者可视化\n"
   ]
  },
  {
   "cell_type": "code",
   "execution_count": null,
   "metadata": {},
   "outputs": [],
   "source": [
    "import numpy as np\n",
    "\n",
    "# Add a small positive number to the diagonal elements of the matrix\n",
    "regularized_matrix_M = matrix_M + np.eye(matrix_M.shape[0]) * 1e-6\n",
    "\n",
    "try:\n",
    "    np.linalg.cholesky(regularized_matrix_M)\n",
    "    print(\"Regularized matrix is positive definite\")\n",
    "except np.linalg.LinAlgError:\n",
    "    print(\"Regularized matrix is still not positive definite\")"
   ]
  },
  {
   "cell_type": "code",
   "execution_count": null,
   "metadata": {},
   "outputs": [],
   "source": [
    "# from scipy.linalg import eigh\n",
    "# import numpy as np\n",
    "\n",
    "# # 假设你已知质量矩阵M和刚度矩阵K\n",
    "# # M = ...\n",
    "# # K = ...\n",
    "\n",
    "# # 求解广义特征值问题\n",
    "# eigvals, eigvecs = eigh(matrix_K, regularized_matrix_M, eigvals=(0,19))"
   ]
  },
  {
   "cell_type": "code",
   "execution_count": null,
   "metadata": {},
   "outputs": [],
   "source": [
    "import numpy as np\n",
    "from scipy.sparse.linalg import eigs\n",
    "\n",
    "# 这里，你的结构刚度矩阵是K，质量矩阵是M。\n",
    "# K = ...\n",
    "# M = ...\n",
    "\n",
    "# 现在，我们使用eigsh函数来解决特征值问题。\n",
    "# 这个函数默认使用'Lanczos'方法。\n",
    "# 我们请求前20个最大的特征值（和相应的特征向量）。\n",
    "\n",
    "num_eigvals = 20  # 所需的特征值数量\n",
    "\n",
    "eigvals, eigvecs = eigs(matrix_K, k=num_eigvals, M=regularized_matrix_M)\n",
    "\n",
    "# 因为我们处理的是振动问题，所以特征值应该是振动频率的平方。\n",
    "# 所以，我们需要从特征值中得到振动频率。\n",
    "# 请注意，我们假设这里的单位是正确的（即，K是在赫兹的平方中，M是在千克中）。\n",
    "\n",
    "frequencies = np.sqrt(eigvals) / (2*np.pi)\n",
    "\n",
    "# frequencies现在是前20个振动频率。\n"
   ]
  },
  {
   "cell_type": "code",
   "execution_count": null,
   "metadata": {},
   "outputs": [],
   "source": [
    "eigvecs"
   ]
  },
  {
   "cell_type": "code",
   "execution_count": null,
   "metadata": {},
   "outputs": [],
   "source": [
    "from scipy.sparse.linalg import eigsh\n",
    "eigvals_large, eigvecs = eigsh(matrix_K, 20, matrix_M, which='LM')\n",
    "eigvals = 1.0 / eigvals_large"
   ]
  },
  {
   "cell_type": "code",
   "execution_count": null,
   "metadata": {},
   "outputs": [],
   "source": [
    "is_diagonal_positive = np.all(np.diag(matrix) > 0)\n",
    "print(\"Are all diagonal elements positive?\", is_diagonal_positive)"
   ]
  },
  {
   "cell_type": "code",
   "execution_count": null,
   "metadata": {},
   "outputs": [],
   "source": [
    "np.savetxt(\"stiffness_matrix.csv\", matrix, delimiter=\",\")"
   ]
  },
  {
   "cell_type": "code",
   "execution_count": null,
   "metadata": {},
   "outputs": [],
   "source": [
    "import numpy as np\n",
    "\n",
    "# 节点ID表，这些是你想要从大矩阵中取出的节点\n",
    "node_ids = [381, 382, 443, 442]\n",
    "\n",
    "# 索引，将节点ID转换为矩阵索引，因为每个节点有6个自由度\n",
    "indices = []\n",
    "for node_id in node_ids:\n",
    "    for i in range(6):\n",
    "        indices.append((node_id-1)*6 + i)\n",
    "\n",
    "# 使用numpy的take函数从大矩阵中取出小矩阵\n",
    "K_small = np.take(np.take(matrix, indices, axis=0), indices, axis=1)\n",
    "\n",
    "# 现在K_small就是你需要的24x24的矩阵\n"
   ]
  },
  {
   "cell_type": "code",
   "execution_count": null,
   "metadata": {},
   "outputs": [],
   "source": [
    "import numpy as np\n",
    "\n",
    "# 节点ID表，这些是你想要从大矩阵中取出的节点\n",
    "node_ids = [105, 106, 167, 166]\n",
    "\n",
    "# 索引，将节点ID转换为矩阵索引，因为每个节点有6个自由度\n",
    "indices = []\n",
    "for node_id in node_ids:\n",
    "    for i in range(6):\n",
    "        indices.append((node_id-1)*6 + i)\n",
    "\n",
    "# 使用numpy的take函数从大矩阵中取出小矩阵\n",
    "K_small2 = np.take(np.take(matrix, indices, axis=0), indices, axis=1)\n",
    "\n",
    "# 现在K_small就是你需要的24x24的矩阵\n",
    "K_small==K_small2"
   ]
  },
  {
   "cell_type": "code",
   "execution_count": null,
   "metadata": {},
   "outputs": [],
   "source": [
    "#验证导出的刚度矩阵是否正确，进行静态的计算\n",
    "def apply_boundary_conditions(stiffness_matrix, boundary_nodes):\n",
    "    \"\"\"\n",
    "    在刚度矩阵上应用边界条件。\n",
    "\n",
    "    参数：\n",
    "    stiffness_matrix (numpy.ndarray)：总刚度矩阵。\n",
    "    boundary_nodes (list)：边界节点列表。\n",
    "\n",
    "    返回：\n",
    "    numpy.ndarray：应用了边界条件后的刚度矩阵。\n",
    "    \"\"\"\n",
    "    # 复制原始刚度矩阵，以避免修改原始数据\n",
    "    stiffness_matrix_bc = np.array(stiffness_matrix, copy=True)\n",
    "\n",
    "    # 因为每个节点有6个自由度，所以需要对每个节点的6个自由度都进行处理\n",
    "    for node_id in boundary_nodes:\n",
    "        for i in range(6):\n",
    "            dof_index = (node_id - 1) * 6 + i  # 计算自由度在矩阵中的位置\n",
    "            stiffness_matrix_bc[:, dof_index] = 0  # 置零该自由度对应的列\n",
    "            stiffness_matrix_bc[dof_index, :] = 0  # 置零该自由度对应的行\n",
    "            stiffness_matrix_bc[dof_index, dof_index] = 1  # 在对角线位置上置1\n",
    "\n",
    "    return stiffness_matrix_bc\n",
    "\n",
    "def apply_load(load_nodes, load_direction, load_value, num_nodes):\n",
    "    \"\"\"\n",
    "    创建载荷向量并应用载荷。\n",
    "\n",
    "    参数：\n",
    "    load_nodes (list)：载荷节点列表。\n",
    "    load_direction (int)：载荷方向（1、2或3）。\n",
    "    load_value (float)：载荷值。\n",
    "    num_nodes (int)：节点总数。\n",
    "\n",
    "    返回：\n",
    "    numpy.ndarray：载荷向量。\n",
    "    \"\"\"\n",
    "    load_vector = np.zeros(num_nodes * 6)  # 创建载荷向量\n",
    "    for node_id in load_nodes:\n",
    "        dof_index = (node_id - 1) * 6 + load_direction - 1  # 计算载荷在载荷向量中的位置\n",
    "        load_vector[dof_index] += load_value  # 应用载荷\n",
    "\n",
    "    return load_vector\n"
   ]
  },
  {
   "cell_type": "code",
   "execution_count": null,
   "metadata": {},
   "outputs": [],
   "source": [
    "load_nodes = list(range(122, 794, 61))  # 需要将载荷应用的节点列表\n",
    "load_direction = 3  # 载荷方向\n",
    "load_value = 1.  # 载荷值\n",
    "num_nodes = 793  # 节点总数\n",
    "KKKKK  = apply_boundary_conditions(matrix, load_nodes)\n",
    "load_vector = apply_load(load_nodes, load_direction, load_value, num_nodes)\n",
    "U = np.linalg.solve(KKKKK, load_vector)\n"
   ]
  },
  {
   "cell_type": "code",
   "execution_count": null,
   "metadata": {},
   "outputs": [],
   "source": [
    "Uz = U[2::6]"
   ]
  },
  {
   "cell_type": "code",
   "execution_count": null,
   "metadata": {},
   "outputs": [],
   "source": []
  }
 ],
 "metadata": {
  "kernelspec": {
   "display_name": "ml",
   "language": "python",
   "name": "python3"
  },
  "language_info": {
   "codemirror_mode": {
    "name": "ipython",
    "version": 3
   },
   "file_extension": ".py",
   "mimetype": "text/x-python",
   "name": "python",
   "nbconvert_exporter": "python",
   "pygments_lexer": "ipython3",
   "version": "3.8.16"
  },
  "orig_nbformat": 4
 },
 "nbformat": 4,
 "nbformat_minor": 2
}
